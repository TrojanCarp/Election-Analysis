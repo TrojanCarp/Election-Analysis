{
 "cells": [
  {
   "cell_type": "code",
   "execution_count": 40,
   "metadata": {
    "collapsed": true
   },
   "outputs": [],
   "source": [
    "# For data\n",
    "import pandas as pd\n",
    "from pandas import Series,DataFrame\n",
    "import numpy as np\n",
    "\n",
    "# For visualization\n",
    "import matplotlib.pyplot as plt\n",
    "import seaborn as sns\n",
    "sns.set_style('whitegrid')\n",
    "%matplotlib inline\n",
    "\n",
    "from __future__ import division"
   ]
  },
  {
   "cell_type": "code",
   "execution_count": 41,
   "metadata": {
    "collapsed": false
   },
   "outputs": [
    {
     "name": "stdout",
     "output_type": "stream",
     "text": [
      "<class 'pandas.core.frame.DataFrame'>\n",
      "RangeIndex: 906 entries, 0 to 905\n",
      "Data columns (total 18 columns):\n",
      "Pollster                  906 non-null object\n",
      "Start Date                906 non-null object\n",
      "End Date                  906 non-null object\n",
      "Entry Date/Time (ET)      906 non-null object\n",
      "Number of Observations    617 non-null float64\n",
      "Population                906 non-null object\n",
      "Mode                      906 non-null object\n",
      "Trump                     906 non-null float64\n",
      "Clinton                   906 non-null float64\n",
      "Johnson                   242 non-null float64\n",
      "Other                     539 non-null float64\n",
      "Undecided                 861 non-null float64\n",
      "Pollster URL              906 non-null object\n",
      "Source URL                906 non-null object\n",
      "Partisan                  906 non-null object\n",
      "Affiliation               906 non-null object\n",
      "Question Text             235 non-null object\n",
      "Question Iteration        906 non-null int64\n",
      "dtypes: float64(6), int64(1), object(11)\n",
      "memory usage: 127.5+ KB\n"
     ]
    }
   ],
   "source": [
    "# Set poll data as pandas DataFrame\n",
    "poll_df = pd.read_csv('desktop/2016-general-election-trump-vs-clinton-vs-johnson.csv')\n",
    "\n",
    "# Let's get a glimpse at the data\n",
    "poll_df.info()"
   ]
  },
  {
   "cell_type": "code",
   "execution_count": 42,
   "metadata": {
    "collapsed": false
   },
   "outputs": [
    {
     "data": {
      "text/html": [
       "<div>\n",
       "<table border=\"1\" class=\"dataframe\">\n",
       "  <thead>\n",
       "    <tr style=\"text-align: right;\">\n",
       "      <th></th>\n",
       "      <th>Pollster</th>\n",
       "      <th>Start Date</th>\n",
       "      <th>End Date</th>\n",
       "      <th>Entry Date/Time (ET)</th>\n",
       "      <th>Number of Observations</th>\n",
       "      <th>Population</th>\n",
       "      <th>Mode</th>\n",
       "      <th>Trump</th>\n",
       "      <th>Clinton</th>\n",
       "      <th>Johnson</th>\n",
       "      <th>Other</th>\n",
       "      <th>Undecided</th>\n",
       "      <th>Pollster URL</th>\n",
       "      <th>Source URL</th>\n",
       "      <th>Partisan</th>\n",
       "      <th>Affiliation</th>\n",
       "      <th>Question Text</th>\n",
       "      <th>Question Iteration</th>\n",
       "    </tr>\n",
       "  </thead>\n",
       "  <tbody>\n",
       "    <tr>\n",
       "      <th>0</th>\n",
       "      <td>Morning Consult</td>\n",
       "      <td>2016-08-11</td>\n",
       "      <td>2016-08-14</td>\n",
       "      <td>2016-08-15T18:50:05Z</td>\n",
       "      <td>2001.0</td>\n",
       "      <td>Registered Voters</td>\n",
       "      <td>Internet</td>\n",
       "      <td>37.0</td>\n",
       "      <td>44.0</td>\n",
       "      <td>NaN</td>\n",
       "      <td>NaN</td>\n",
       "      <td>18.0</td>\n",
       "      <td>http://elections.huffingtonpost.com/pollster/p...</td>\n",
       "      <td>https://morningconsult.com/2016/08/14/poll-tru...</td>\n",
       "      <td>Nonpartisan</td>\n",
       "      <td>None</td>\n",
       "      <td>If the 2016 presidential election were held to...</td>\n",
       "      <td>1</td>\n",
       "    </tr>\n",
       "    <tr>\n",
       "      <th>1</th>\n",
       "      <td>Morning Consult</td>\n",
       "      <td>2016-08-11</td>\n",
       "      <td>2016-08-14</td>\n",
       "      <td>2016-08-15T18:50:05Z</td>\n",
       "      <td>740.0</td>\n",
       "      <td>Registered Voters - Democrat</td>\n",
       "      <td>Internet</td>\n",
       "      <td>8.0</td>\n",
       "      <td>83.0</td>\n",
       "      <td>NaN</td>\n",
       "      <td>NaN</td>\n",
       "      <td>9.0</td>\n",
       "      <td>http://elections.huffingtonpost.com/pollster/p...</td>\n",
       "      <td>https://morningconsult.com/2016/08/14/poll-tru...</td>\n",
       "      <td>Nonpartisan</td>\n",
       "      <td>None</td>\n",
       "      <td>If the 2016 presidential election were held to...</td>\n",
       "      <td>1</td>\n",
       "    </tr>\n",
       "    <tr>\n",
       "      <th>2</th>\n",
       "      <td>Morning Consult</td>\n",
       "      <td>2016-08-11</td>\n",
       "      <td>2016-08-14</td>\n",
       "      <td>2016-08-15T18:50:05Z</td>\n",
       "      <td>610.0</td>\n",
       "      <td>Registered Voters - Republican</td>\n",
       "      <td>Internet</td>\n",
       "      <td>77.0</td>\n",
       "      <td>9.0</td>\n",
       "      <td>NaN</td>\n",
       "      <td>NaN</td>\n",
       "      <td>14.0</td>\n",
       "      <td>http://elections.huffingtonpost.com/pollster/p...</td>\n",
       "      <td>https://morningconsult.com/2016/08/14/poll-tru...</td>\n",
       "      <td>Nonpartisan</td>\n",
       "      <td>None</td>\n",
       "      <td>If the 2016 presidential election were held to...</td>\n",
       "      <td>1</td>\n",
       "    </tr>\n",
       "    <tr>\n",
       "      <th>3</th>\n",
       "      <td>Morning Consult</td>\n",
       "      <td>2016-08-11</td>\n",
       "      <td>2016-08-14</td>\n",
       "      <td>2016-08-15T18:50:05Z</td>\n",
       "      <td>651.0</td>\n",
       "      <td>Registered Voters - independent</td>\n",
       "      <td>Internet</td>\n",
       "      <td>33.0</td>\n",
       "      <td>33.0</td>\n",
       "      <td>NaN</td>\n",
       "      <td>NaN</td>\n",
       "      <td>34.0</td>\n",
       "      <td>http://elections.huffingtonpost.com/pollster/p...</td>\n",
       "      <td>https://morningconsult.com/2016/08/14/poll-tru...</td>\n",
       "      <td>Nonpartisan</td>\n",
       "      <td>None</td>\n",
       "      <td>If the 2016 presidential election were held to...</td>\n",
       "      <td>1</td>\n",
       "    </tr>\n",
       "    <tr>\n",
       "      <th>4</th>\n",
       "      <td>Morning Consult</td>\n",
       "      <td>2016-08-11</td>\n",
       "      <td>2016-08-14</td>\n",
       "      <td>2016-08-15T18:50:05Z</td>\n",
       "      <td>2001.0</td>\n",
       "      <td>Registered Voters</td>\n",
       "      <td>Internet</td>\n",
       "      <td>33.0</td>\n",
       "      <td>39.0</td>\n",
       "      <td>9.0</td>\n",
       "      <td>4.0</td>\n",
       "      <td>14.0</td>\n",
       "      <td>http://elections.huffingtonpost.com/pollster/p...</td>\n",
       "      <td>https://morningconsult.com/2016/08/14/poll-tru...</td>\n",
       "      <td>Nonpartisan</td>\n",
       "      <td>None</td>\n",
       "      <td>If the 2016 presidential election were held to...</td>\n",
       "      <td>2</td>\n",
       "    </tr>\n",
       "  </tbody>\n",
       "</table>\n",
       "</div>"
      ],
      "text/plain": [
       "          Pollster  Start Date    End Date  Entry Date/Time (ET)  \\\n",
       "0  Morning Consult  2016-08-11  2016-08-14  2016-08-15T18:50:05Z   \n",
       "1  Morning Consult  2016-08-11  2016-08-14  2016-08-15T18:50:05Z   \n",
       "2  Morning Consult  2016-08-11  2016-08-14  2016-08-15T18:50:05Z   \n",
       "3  Morning Consult  2016-08-11  2016-08-14  2016-08-15T18:50:05Z   \n",
       "4  Morning Consult  2016-08-11  2016-08-14  2016-08-15T18:50:05Z   \n",
       "\n",
       "   Number of Observations                       Population      Mode  Trump  \\\n",
       "0                  2001.0                Registered Voters  Internet   37.0   \n",
       "1                   740.0     Registered Voters - Democrat  Internet    8.0   \n",
       "2                   610.0   Registered Voters - Republican  Internet   77.0   \n",
       "3                   651.0  Registered Voters - independent  Internet   33.0   \n",
       "4                  2001.0                Registered Voters  Internet   33.0   \n",
       "\n",
       "   Clinton  Johnson  Other  Undecided  \\\n",
       "0     44.0      NaN    NaN       18.0   \n",
       "1     83.0      NaN    NaN        9.0   \n",
       "2      9.0      NaN    NaN       14.0   \n",
       "3     33.0      NaN    NaN       34.0   \n",
       "4     39.0      9.0    4.0       14.0   \n",
       "\n",
       "                                        Pollster URL  \\\n",
       "0  http://elections.huffingtonpost.com/pollster/p...   \n",
       "1  http://elections.huffingtonpost.com/pollster/p...   \n",
       "2  http://elections.huffingtonpost.com/pollster/p...   \n",
       "3  http://elections.huffingtonpost.com/pollster/p...   \n",
       "4  http://elections.huffingtonpost.com/pollster/p...   \n",
       "\n",
       "                                          Source URL     Partisan Affiliation  \\\n",
       "0  https://morningconsult.com/2016/08/14/poll-tru...  Nonpartisan        None   \n",
       "1  https://morningconsult.com/2016/08/14/poll-tru...  Nonpartisan        None   \n",
       "2  https://morningconsult.com/2016/08/14/poll-tru...  Nonpartisan        None   \n",
       "3  https://morningconsult.com/2016/08/14/poll-tru...  Nonpartisan        None   \n",
       "4  https://morningconsult.com/2016/08/14/poll-tru...  Nonpartisan        None   \n",
       "\n",
       "                                       Question Text  Question Iteration  \n",
       "0  If the 2016 presidential election were held to...                   1  \n",
       "1  If the 2016 presidential election were held to...                   1  \n",
       "2  If the 2016 presidential election were held to...                   1  \n",
       "3  If the 2016 presidential election were held to...                   1  \n",
       "4  If the 2016 presidential election were held to...                   2  "
      ]
     },
     "execution_count": 42,
     "metadata": {},
     "output_type": "execute_result"
    }
   ],
   "source": [
    "poll_df.head()"
   ]
  },
  {
   "cell_type": "code",
   "execution_count": 43,
   "metadata": {
    "collapsed": false
   },
   "outputs": [
    {
     "data": {
      "text/plain": [
       "<seaborn.axisgrid.FacetGrid at 0x119f2c910>"
      ]
     },
     "execution_count": 43,
     "metadata": {},
     "output_type": "execute_result"
    },
    {
     "data": {
      "image/png": "[encoded data removed]",
      "text/plain": [
       "<matplotlib.figure.Figure at 0x119f3b9d0>"
      ]
     },
     "metadata": {},
     "output_type": "display_data"
    }
   ],
   "source": [
    "#Counts of affiliation\n",
    "sns.factorplot('Affiliation',data=poll_df,kind='count')"
   ]
  },
  {
   "cell_type": "code",
   "execution_count": 44,
   "metadata": {
    "collapsed": false
   },
   "outputs": [
    {
     "data": {
      "text/plain": [
       "<seaborn.axisgrid.FacetGrid at 0x11a4b1850>"
      ]
     },
     "execution_count": 44,
     "metadata": {},
     "output_type": "execute_result"
    },
    {
     "data": {
      "image/png": "[encoded data removed]",
      "text/plain": [
       "<matplotlib.figure.Figure at 0x1174e1d50>"
      ]
     },
     "metadata": {},
     "output_type": "display_data"
    }
   ],
   "source": [
    "#Lets take a look at how voters are registered vs. their affiliation\n",
    "sns.factorplot('Affiliation',data=poll_df,hue='Population',kind='count')"
   ]
  },
  {
   "cell_type": "code",
   "execution_count": 45,
   "metadata": {
    "collapsed": false
   },
   "outputs": [
    {
     "data": {
      "text/plain": [
       "<matplotlib.axes._subplots.AxesSubplot at 0x11bb6ec50>"
      ]
     },
     "execution_count": 45,
     "metadata": {},
     "output_type": "execute_result"
    },
    {
     "data": {
      "image/png": "[encoded data removed]",
      "text/plain": [
       "<matplotlib.figure.Figure at 0x117175750>"
      ]
     },
     "metadata": {},
     "output_type": "display_data"
    }
   ],
   "source": [
    "avg = pd.DataFrame(poll_df.mean())\n",
    "avg.drop('Number of Observations',axis=0,inplace=True)\n",
    "\n",
    "std=pd.DataFrame(poll_df.std())\n",
    "std.drop('Number of Observations',axis=0,inplace=True)\n",
    "\n",
    "avg.plot(yerr=std,kind='bar',legend=False)\n",
    "\n",
    "#Interesting to see such a massive standard deviation."
   ]
  },
  {
   "cell_type": "code",
   "execution_count": 11,
   "metadata": {
    "collapsed": false
   },
   "outputs": [
    {
     "data": {
      "text/plain": [
       "'2016-08-11'"
      ]
     },
     "execution_count": 11,
     "metadata": {},
     "output_type": "execute_result"
    }
   ],
   "source": [
    "poll_df['Start Date'].max()"
   ]
  },
  {
   "cell_type": "code",
   "execution_count": 12,
   "metadata": {
    "collapsed": false
   },
   "outputs": [
    {
     "data": {
      "text/plain": [
       "'2015-05-19'"
      ]
     },
     "execution_count": 12,
     "metadata": {},
     "output_type": "execute_result"
    }
   ],
   "source": [
    "poll_df['Start Date'].min()"
   ]
  },
  {
   "cell_type": "code",
   "execution_count": 46,
   "metadata": {
    "collapsed": true
   },
   "outputs": [],
   "source": [
    "from datetime import datetime"
   ]
  },
  {
   "cell_type": "code",
   "execution_count": 47,
   "metadata": {
    "collapsed": false
   },
   "outputs": [
    {
     "data": {
      "text/html": [
       "<div>\n",
       "<table border=\"1\" class=\"dataframe\">\n",
       "  <thead>\n",
       "    <tr style=\"text-align: right;\">\n",
       "      <th></th>\n",
       "      <th>Pollster</th>\n",
       "      <th>Start Date</th>\n",
       "      <th>End Date</th>\n",
       "      <th>Entry Date/Time (ET)</th>\n",
       "      <th>Number of Observations</th>\n",
       "      <th>Population</th>\n",
       "      <th>Mode</th>\n",
       "      <th>Trump</th>\n",
       "      <th>Clinton</th>\n",
       "      <th>Johnson</th>\n",
       "      <th>Other</th>\n",
       "      <th>Undecided</th>\n",
       "      <th>Pollster URL</th>\n",
       "      <th>Source URL</th>\n",
       "      <th>Partisan</th>\n",
       "      <th>Affiliation</th>\n",
       "      <th>Question Text</th>\n",
       "      <th>Question Iteration</th>\n",
       "      <th>Difference</th>\n",
       "    </tr>\n",
       "  </thead>\n",
       "  <tbody>\n",
       "    <tr>\n",
       "      <th>0</th>\n",
       "      <td>Morning Consult</td>\n",
       "      <td>2016-08-11</td>\n",
       "      <td>2016-08-14</td>\n",
       "      <td>2016-08-15T18:50:05Z</td>\n",
       "      <td>2001.0</td>\n",
       "      <td>Registered Voters</td>\n",
       "      <td>Internet</td>\n",
       "      <td>37.0</td>\n",
       "      <td>44.0</td>\n",
       "      <td>NaN</td>\n",
       "      <td>NaN</td>\n",
       "      <td>18.0</td>\n",
       "      <td>http://elections.huffingtonpost.com/pollster/p...</td>\n",
       "      <td>https://morningconsult.com/2016/08/14/poll-tru...</td>\n",
       "      <td>Nonpartisan</td>\n",
       "      <td>None</td>\n",
       "      <td>If the 2016 presidential election were held to...</td>\n",
       "      <td>1</td>\n",
       "      <td>0.07</td>\n",
       "    </tr>\n",
       "    <tr>\n",
       "      <th>1</th>\n",
       "      <td>Morning Consult</td>\n",
       "      <td>2016-08-11</td>\n",
       "      <td>2016-08-14</td>\n",
       "      <td>2016-08-15T18:50:05Z</td>\n",
       "      <td>740.0</td>\n",
       "      <td>Registered Voters - Democrat</td>\n",
       "      <td>Internet</td>\n",
       "      <td>8.0</td>\n",
       "      <td>83.0</td>\n",
       "      <td>NaN</td>\n",
       "      <td>NaN</td>\n",
       "      <td>9.0</td>\n",
       "      <td>http://elections.huffingtonpost.com/pollster/p...</td>\n",
       "      <td>https://morningconsult.com/2016/08/14/poll-tru...</td>\n",
       "      <td>Nonpartisan</td>\n",
       "      <td>None</td>\n",
       "      <td>If the 2016 presidential election were held to...</td>\n",
       "      <td>1</td>\n",
       "      <td>0.75</td>\n",
       "    </tr>\n",
       "    <tr>\n",
       "      <th>2</th>\n",
       "      <td>Morning Consult</td>\n",
       "      <td>2016-08-11</td>\n",
       "      <td>2016-08-14</td>\n",
       "      <td>2016-08-15T18:50:05Z</td>\n",
       "      <td>610.0</td>\n",
       "      <td>Registered Voters - Republican</td>\n",
       "      <td>Internet</td>\n",
       "      <td>77.0</td>\n",
       "      <td>9.0</td>\n",
       "      <td>NaN</td>\n",
       "      <td>NaN</td>\n",
       "      <td>14.0</td>\n",
       "      <td>http://elections.huffingtonpost.com/pollster/p...</td>\n",
       "      <td>https://morningconsult.com/2016/08/14/poll-tru...</td>\n",
       "      <td>Nonpartisan</td>\n",
       "      <td>None</td>\n",
       "      <td>If the 2016 presidential election were held to...</td>\n",
       "      <td>1</td>\n",
       "      <td>-0.68</td>\n",
       "    </tr>\n",
       "    <tr>\n",
       "      <th>3</th>\n",
       "      <td>Morning Consult</td>\n",
       "      <td>2016-08-11</td>\n",
       "      <td>2016-08-14</td>\n",
       "      <td>2016-08-15T18:50:05Z</td>\n",
       "      <td>651.0</td>\n",
       "      <td>Registered Voters - independent</td>\n",
       "      <td>Internet</td>\n",
       "      <td>33.0</td>\n",
       "      <td>33.0</td>\n",
       "      <td>NaN</td>\n",
       "      <td>NaN</td>\n",
       "      <td>34.0</td>\n",
       "      <td>http://elections.huffingtonpost.com/pollster/p...</td>\n",
       "      <td>https://morningconsult.com/2016/08/14/poll-tru...</td>\n",
       "      <td>Nonpartisan</td>\n",
       "      <td>None</td>\n",
       "      <td>If the 2016 presidential election were held to...</td>\n",
       "      <td>1</td>\n",
       "      <td>0.00</td>\n",
       "    </tr>\n",
       "    <tr>\n",
       "      <th>4</th>\n",
       "      <td>Morning Consult</td>\n",
       "      <td>2016-08-11</td>\n",
       "      <td>2016-08-14</td>\n",
       "      <td>2016-08-15T18:50:05Z</td>\n",
       "      <td>2001.0</td>\n",
       "      <td>Registered Voters</td>\n",
       "      <td>Internet</td>\n",
       "      <td>33.0</td>\n",
       "      <td>39.0</td>\n",
       "      <td>9.0</td>\n",
       "      <td>4.0</td>\n",
       "      <td>14.0</td>\n",
       "      <td>http://elections.huffingtonpost.com/pollster/p...</td>\n",
       "      <td>https://morningconsult.com/2016/08/14/poll-tru...</td>\n",
       "      <td>Nonpartisan</td>\n",
       "      <td>None</td>\n",
       "      <td>If the 2016 presidential election were held to...</td>\n",
       "      <td>2</td>\n",
       "      <td>0.06</td>\n",
       "    </tr>\n",
       "  </tbody>\n",
       "</table>\n",
       "</div>"
      ],
      "text/plain": [
       "          Pollster  Start Date    End Date  Entry Date/Time (ET)  \\\n",
       "0  Morning Consult  2016-08-11  2016-08-14  2016-08-15T18:50:05Z   \n",
       "1  Morning Consult  2016-08-11  2016-08-14  2016-08-15T18:50:05Z   \n",
       "2  Morning Consult  2016-08-11  2016-08-14  2016-08-15T18:50:05Z   \n",
       "3  Morning Consult  2016-08-11  2016-08-14  2016-08-15T18:50:05Z   \n",
       "4  Morning Consult  2016-08-11  2016-08-14  2016-08-15T18:50:05Z   \n",
       "\n",
       "   Number of Observations                       Population      Mode  Trump  \\\n",
       "0                  2001.0                Registered Voters  Internet   37.0   \n",
       "1                   740.0     Registered Voters - Democrat  Internet    8.0   \n",
       "2                   610.0   Registered Voters - Republican  Internet   77.0   \n",
       "3                   651.0  Registered Voters - independent  Internet   33.0   \n",
       "4                  2001.0                Registered Voters  Internet   33.0   \n",
       "\n",
       "   Clinton  Johnson  Other  Undecided  \\\n",
       "0     44.0      NaN    NaN       18.0   \n",
       "1     83.0      NaN    NaN        9.0   \n",
       "2      9.0      NaN    NaN       14.0   \n",
       "3     33.0      NaN    NaN       34.0   \n",
       "4     39.0      9.0    4.0       14.0   \n",
       "\n",
       "                                        Pollster URL  \\\n",
       "0  http://elections.huffingtonpost.com/pollster/p...   \n",
       "1  http://elections.huffingtonpost.com/pollster/p...   \n",
       "2  http://elections.huffingtonpost.com/pollster/p...   \n",
       "3  http://elections.huffingtonpost.com/pollster/p...   \n",
       "4  http://elections.huffingtonpost.com/pollster/p...   \n",
       "\n",
       "                                          Source URL     Partisan Affiliation  \\\n",
       "0  https://morningconsult.com/2016/08/14/poll-tru...  Nonpartisan        None   \n",
       "1  https://morningconsult.com/2016/08/14/poll-tru...  Nonpartisan        None   \n",
       "2  https://morningconsult.com/2016/08/14/poll-tru...  Nonpartisan        None   \n",
       "3  https://morningconsult.com/2016/08/14/poll-tru...  Nonpartisan        None   \n",
       "4  https://morningconsult.com/2016/08/14/poll-tru...  Nonpartisan        None   \n",
       "\n",
       "                                       Question Text  Question Iteration  \\\n",
       "0  If the 2016 presidential election were held to...                   1   \n",
       "1  If the 2016 presidential election were held to...                   1   \n",
       "2  If the 2016 presidential election were held to...                   1   \n",
       "3  If the 2016 presidential election were held to...                   1   \n",
       "4  If the 2016 presidential election were held to...                   2   \n",
       "\n",
       "   Difference  \n",
       "0        0.07  \n",
       "1        0.75  \n",
       "2       -0.68  \n",
       "3        0.00  \n",
       "4        0.06  "
      ]
     },
     "execution_count": 47,
     "metadata": {},
     "output_type": "execute_result"
    }
   ],
   "source": [
    "poll_df['Difference']=(poll_df.Clinton - poll_df.Trump)/100\n",
    "poll_df.head()"
   ]
  },
  {
   "cell_type": "code",
   "execution_count": 49,
   "metadata": {
    "collapsed": false
   },
   "outputs": [
    {
     "data": {
      "text/html": [
       "<div>\n",
       "<table border=\"1\" class=\"dataframe\">\n",
       "  <thead>\n",
       "    <tr style=\"text-align: right;\">\n",
       "      <th></th>\n",
       "      <th>Start Date</th>\n",
       "      <th>Number of Observations</th>\n",
       "      <th>Trump</th>\n",
       "      <th>Clinton</th>\n",
       "      <th>Johnson</th>\n",
       "      <th>Other</th>\n",
       "      <th>Undecided</th>\n",
       "      <th>Question Iteration</th>\n",
       "      <th>Difference</th>\n",
       "    </tr>\n",
       "  </thead>\n",
       "  <tbody>\n",
       "    <tr>\n",
       "      <th>0</th>\n",
       "      <td>2015-05-19</td>\n",
       "      <td>1046.00</td>\n",
       "      <td>34.25</td>\n",
       "      <td>48.75</td>\n",
       "      <td>NaN</td>\n",
       "      <td>2.5</td>\n",
       "      <td>14.00</td>\n",
       "      <td>1.0</td>\n",
       "      <td>0.1450</td>\n",
       "    </tr>\n",
       "    <tr>\n",
       "      <th>1</th>\n",
       "      <td>2015-06-20</td>\n",
       "      <td>420.75</td>\n",
       "      <td>35.00</td>\n",
       "      <td>47.25</td>\n",
       "      <td>NaN</td>\n",
       "      <td>NaN</td>\n",
       "      <td>17.75</td>\n",
       "      <td>1.0</td>\n",
       "      <td>0.1225</td>\n",
       "    </tr>\n",
       "    <tr>\n",
       "      <th>2</th>\n",
       "      <td>2015-06-21</td>\n",
       "      <td>1005.00</td>\n",
       "      <td>34.00</td>\n",
       "      <td>51.00</td>\n",
       "      <td>NaN</td>\n",
       "      <td>3.0</td>\n",
       "      <td>12.00</td>\n",
       "      <td>1.0</td>\n",
       "      <td>0.1700</td>\n",
       "    </tr>\n",
       "    <tr>\n",
       "      <th>3</th>\n",
       "      <td>2015-06-26</td>\n",
       "      <td>890.00</td>\n",
       "      <td>36.75</td>\n",
       "      <td>57.00</td>\n",
       "      <td>NaN</td>\n",
       "      <td>6.0</td>\n",
       "      <td>0.00</td>\n",
       "      <td>1.0</td>\n",
       "      <td>0.2025</td>\n",
       "    </tr>\n",
       "    <tr>\n",
       "      <th>4</th>\n",
       "      <td>2015-07-09</td>\n",
       "      <td>499.25</td>\n",
       "      <td>35.25</td>\n",
       "      <td>49.50</td>\n",
       "      <td>NaN</td>\n",
       "      <td>NaN</td>\n",
       "      <td>16.00</td>\n",
       "      <td>1.0</td>\n",
       "      <td>0.1425</td>\n",
       "    </tr>\n",
       "  </tbody>\n",
       "</table>\n",
       "</div>"
      ],
      "text/plain": [
       "   Start Date  Number of Observations  Trump  Clinton  Johnson  Other  \\\n",
       "0  2015-05-19                 1046.00  34.25    48.75      NaN    2.5   \n",
       "1  2015-06-20                  420.75  35.00    47.25      NaN    NaN   \n",
       "2  2015-06-21                 1005.00  34.00    51.00      NaN    3.0   \n",
       "3  2015-06-26                  890.00  36.75    57.00      NaN    6.0   \n",
       "4  2015-07-09                  499.25  35.25    49.50      NaN    NaN   \n",
       "\n",
       "   Undecided  Question Iteration  Difference  \n",
       "0      14.00                 1.0      0.1450  \n",
       "1      17.75                 1.0      0.1225  \n",
       "2      12.00                 1.0      0.1700  \n",
       "3       0.00                 1.0      0.2025  \n",
       "4      16.00                 1.0      0.1425  "
      ]
     },
     "execution_count": 49,
     "metadata": {},
     "output_type": "execute_result"
    }
   ],
   "source": [
    "poll_df = poll_df.groupby(['Start Date'],as_index=False).mean()\n",
    "\n",
    "poll_df.head()"
   ]
  },
  {
   "cell_type": "code",
   "execution_count": 53,
   "metadata": {
    "collapsed": false
   },
   "outputs": [
    {
     "data": {
      "image/png": "[encoded data removed]",
      "text/plain": [
       "<matplotlib.figure.Figure at 0x11bba0050>"
      ]
     },
     "metadata": {},
     "output_type": "display_data"
    }
   ],
   "source": [
    "#Note: When the polls favor clinton we see a point plotted above 0.  If they favor trump they are plotted below 0.\n",
    "fig = poll_df.plot('Start Date','Difference',figsize=(12,4),color='purple',marker='o',xlim=(160,191))"
   ]
  },
  {
   "cell_type": "markdown",
   "metadata": {},
   "source": []
  },
  {
   "cell_type": "code",
   "execution_count": 78,
   "metadata": {
    "collapsed": false
   },
   "outputs": [
    {
     "data": {
      "text/plain": [
       "<matplotlib.lines.Line2D at 0x11d1b2ed0>"
      ]
     },
     "execution_count": 78,
     "metadata": {},
     "output_type": "execute_result"
    },
    {
     "data": {
      "image/png": "[encoded data removed]",
      "text/plain": [
       "<matplotlib.figure.Figure at 0x11a7cd5d0>"
      ]
     },
     "metadata": {},
     "output_type": "display_data"
    }
   ],
   "source": [
    "fig = poll_df.plot('Start Date','Difference',figsize=(12,4),color='purple',marker='o',xlim=(160,191))\n",
    "\n",
    "#Democratic Convention July 28th\n",
    "plt.axvline(x=179, linewidth=2,color='red')\n",
    "\n",
    "#Republican Convention July 10th\n",
    "plt.axvline(x=171,linewidth=2,color='red')"
   ]
  },
  {
   "cell_type": "code",
   "execution_count": 79,
   "metadata": {
    "collapsed": true
   },
   "outputs": [],
   "source": [
    "#Looks like the republican convention boosted Trumps short term results but the Democratic convention has put Clinton on an/\n",
    "#upward boost that has yet to let up.  "
   ]
  },
  {
   "cell_type": "code",
   "execution_count": 80,
   "metadata": {
    "collapsed": false
   },
   "outputs": [
    {
     "data": {
      "text/html": [
       "<div>\n",
       "<table border=\"1\" class=\"dataframe\">\n",
       "  <thead>\n",
       "    <tr style=\"text-align: right;\">\n",
       "      <th></th>\n",
       "      <th>Start Date</th>\n",
       "      <th>Number of Observations</th>\n",
       "      <th>Trump</th>\n",
       "      <th>Clinton</th>\n",
       "      <th>Johnson</th>\n",
       "      <th>Other</th>\n",
       "      <th>Undecided</th>\n",
       "      <th>Question Iteration</th>\n",
       "      <th>Difference</th>\n",
       "    </tr>\n",
       "  </thead>\n",
       "  <tbody>\n",
       "    <tr>\n",
       "      <th>0</th>\n",
       "      <td>2015-05-19</td>\n",
       "      <td>1046.00</td>\n",
       "      <td>34.25</td>\n",
       "      <td>48.75</td>\n",
       "      <td>NaN</td>\n",
       "      <td>2.5</td>\n",
       "      <td>14.00</td>\n",
       "      <td>1.0</td>\n",
       "      <td>0.1450</td>\n",
       "    </tr>\n",
       "    <tr>\n",
       "      <th>1</th>\n",
       "      <td>2015-06-20</td>\n",
       "      <td>420.75</td>\n",
       "      <td>35.00</td>\n",
       "      <td>47.25</td>\n",
       "      <td>NaN</td>\n",
       "      <td>NaN</td>\n",
       "      <td>17.75</td>\n",
       "      <td>1.0</td>\n",
       "      <td>0.1225</td>\n",
       "    </tr>\n",
       "    <tr>\n",
       "      <th>2</th>\n",
       "      <td>2015-06-21</td>\n",
       "      <td>1005.00</td>\n",
       "      <td>34.00</td>\n",
       "      <td>51.00</td>\n",
       "      <td>NaN</td>\n",
       "      <td>3.0</td>\n",
       "      <td>12.00</td>\n",
       "      <td>1.0</td>\n",
       "      <td>0.1700</td>\n",
       "    </tr>\n",
       "    <tr>\n",
       "      <th>3</th>\n",
       "      <td>2015-06-26</td>\n",
       "      <td>890.00</td>\n",
       "      <td>36.75</td>\n",
       "      <td>57.00</td>\n",
       "      <td>NaN</td>\n",
       "      <td>6.0</td>\n",
       "      <td>0.00</td>\n",
       "      <td>1.0</td>\n",
       "      <td>0.2025</td>\n",
       "    </tr>\n",
       "    <tr>\n",
       "      <th>4</th>\n",
       "      <td>2015-07-09</td>\n",
       "      <td>499.25</td>\n",
       "      <td>35.25</td>\n",
       "      <td>49.50</td>\n",
       "      <td>NaN</td>\n",
       "      <td>NaN</td>\n",
       "      <td>16.00</td>\n",
       "      <td>1.0</td>\n",
       "      <td>0.1425</td>\n",
       "    </tr>\n",
       "  </tbody>\n",
       "</table>\n",
       "</div>"
      ],
      "text/plain": [
       "   Start Date  Number of Observations  Trump  Clinton  Johnson  Other  \\\n",
       "0  2015-05-19                 1046.00  34.25    48.75      NaN    2.5   \n",
       "1  2015-06-20                  420.75  35.00    47.25      NaN    NaN   \n",
       "2  2015-06-21                 1005.00  34.00    51.00      NaN    3.0   \n",
       "3  2015-06-26                  890.00  36.75    57.00      NaN    6.0   \n",
       "4  2015-07-09                  499.25  35.25    49.50      NaN    NaN   \n",
       "\n",
       "   Undecided  Question Iteration  Difference  \n",
       "0      14.00                 1.0      0.1450  \n",
       "1      17.75                 1.0      0.1225  \n",
       "2      12.00                 1.0      0.1700  \n",
       "3       0.00                 1.0      0.2025  \n",
       "4      16.00                 1.0      0.1425  "
      ]
     },
     "execution_count": 80,
     "metadata": {},
     "output_type": "execute_result"
    }
   ],
   "source": []
  },
  {
   "cell_type": "code",
   "execution_count": 81,
   "metadata": {
    "collapsed": false
   },
   "outputs": [
    {
     "data": {
      "text/html": [
       "<div>\n",
       "<table border=\"1\" class=\"dataframe\">\n",
       "  <thead>\n",
       "    <tr style=\"text-align: right;\">\n",
       "      <th></th>\n",
       "      <th>Pollster</th>\n",
       "      <th>Start Date</th>\n",
       "      <th>End Date</th>\n",
       "      <th>Entry Date/Time (ET)</th>\n",
       "      <th>Number of Observations</th>\n",
       "      <th>Population</th>\n",
       "      <th>Mode</th>\n",
       "      <th>Trump</th>\n",
       "      <th>Clinton</th>\n",
       "      <th>Johnson</th>\n",
       "      <th>Other</th>\n",
       "      <th>Undecided</th>\n",
       "      <th>Pollster URL</th>\n",
       "      <th>Source URL</th>\n",
       "      <th>Partisan</th>\n",
       "      <th>Affiliation</th>\n",
       "      <th>Question Text</th>\n",
       "      <th>Question Iteration</th>\n",
       "    </tr>\n",
       "  </thead>\n",
       "  <tbody>\n",
       "    <tr>\n",
       "      <th>0</th>\n",
       "      <td>Morning Consult</td>\n",
       "      <td>2016-08-11</td>\n",
       "      <td>2016-08-14</td>\n",
       "      <td>2016-08-15T18:50:05Z</td>\n",
       "      <td>2001.0</td>\n",
       "      <td>Registered Voters</td>\n",
       "      <td>Internet</td>\n",
       "      <td>37.0</td>\n",
       "      <td>44.0</td>\n",
       "      <td>NaN</td>\n",
       "      <td>NaN</td>\n",
       "      <td>18.0</td>\n",
       "      <td>http://elections.huffingtonpost.com/pollster/p...</td>\n",
       "      <td>https://morningconsult.com/2016/08/14/poll-tru...</td>\n",
       "      <td>Nonpartisan</td>\n",
       "      <td>None</td>\n",
       "      <td>If the 2016 presidential election were held to...</td>\n",
       "      <td>1</td>\n",
       "    </tr>\n",
       "    <tr>\n",
       "      <th>1</th>\n",
       "      <td>Morning Consult</td>\n",
       "      <td>2016-08-11</td>\n",
       "      <td>2016-08-14</td>\n",
       "      <td>2016-08-15T18:50:05Z</td>\n",
       "      <td>740.0</td>\n",
       "      <td>Registered Voters - Democrat</td>\n",
       "      <td>Internet</td>\n",
       "      <td>8.0</td>\n",
       "      <td>83.0</td>\n",
       "      <td>NaN</td>\n",
       "      <td>NaN</td>\n",
       "      <td>9.0</td>\n",
       "      <td>http://elections.huffingtonpost.com/pollster/p...</td>\n",
       "      <td>https://morningconsult.com/2016/08/14/poll-tru...</td>\n",
       "      <td>Nonpartisan</td>\n",
       "      <td>None</td>\n",
       "      <td>If the 2016 presidential election were held to...</td>\n",
       "      <td>1</td>\n",
       "    </tr>\n",
       "    <tr>\n",
       "      <th>2</th>\n",
       "      <td>Morning Consult</td>\n",
       "      <td>2016-08-11</td>\n",
       "      <td>2016-08-14</td>\n",
       "      <td>2016-08-15T18:50:05Z</td>\n",
       "      <td>610.0</td>\n",
       "      <td>Registered Voters - Republican</td>\n",
       "      <td>Internet</td>\n",
       "      <td>77.0</td>\n",
       "      <td>9.0</td>\n",
       "      <td>NaN</td>\n",
       "      <td>NaN</td>\n",
       "      <td>14.0</td>\n",
       "      <td>http://elections.huffingtonpost.com/pollster/p...</td>\n",
       "      <td>https://morningconsult.com/2016/08/14/poll-tru...</td>\n",
       "      <td>Nonpartisan</td>\n",
       "      <td>None</td>\n",
       "      <td>If the 2016 presidential election were held to...</td>\n",
       "      <td>1</td>\n",
       "    </tr>\n",
       "    <tr>\n",
       "      <th>3</th>\n",
       "      <td>Morning Consult</td>\n",
       "      <td>2016-08-11</td>\n",
       "      <td>2016-08-14</td>\n",
       "      <td>2016-08-15T18:50:05Z</td>\n",
       "      <td>651.0</td>\n",
       "      <td>Registered Voters - independent</td>\n",
       "      <td>Internet</td>\n",
       "      <td>33.0</td>\n",
       "      <td>33.0</td>\n",
       "      <td>NaN</td>\n",
       "      <td>NaN</td>\n",
       "      <td>34.0</td>\n",
       "      <td>http://elections.huffingtonpost.com/pollster/p...</td>\n",
       "      <td>https://morningconsult.com/2016/08/14/poll-tru...</td>\n",
       "      <td>Nonpartisan</td>\n",
       "      <td>None</td>\n",
       "      <td>If the 2016 presidential election were held to...</td>\n",
       "      <td>1</td>\n",
       "    </tr>\n",
       "    <tr>\n",
       "      <th>4</th>\n",
       "      <td>Morning Consult</td>\n",
       "      <td>2016-08-11</td>\n",
       "      <td>2016-08-14</td>\n",
       "      <td>2016-08-15T18:50:05Z</td>\n",
       "      <td>2001.0</td>\n",
       "      <td>Registered Voters</td>\n",
       "      <td>Internet</td>\n",
       "      <td>33.0</td>\n",
       "      <td>39.0</td>\n",
       "      <td>9.0</td>\n",
       "      <td>4.0</td>\n",
       "      <td>14.0</td>\n",
       "      <td>http://elections.huffingtonpost.com/pollster/p...</td>\n",
       "      <td>https://morningconsult.com/2016/08/14/poll-tru...</td>\n",
       "      <td>Nonpartisan</td>\n",
       "      <td>None</td>\n",
       "      <td>If the 2016 presidential election were held to...</td>\n",
       "      <td>2</td>\n",
       "    </tr>\n",
       "  </tbody>\n",
       "</table>\n",
       "</div>"
      ],
      "text/plain": [
       "          Pollster  Start Date    End Date  Entry Date/Time (ET)  \\\n",
       "0  Morning Consult  2016-08-11  2016-08-14  2016-08-15T18:50:05Z   \n",
       "1  Morning Consult  2016-08-11  2016-08-14  2016-08-15T18:50:05Z   \n",
       "2  Morning Consult  2016-08-11  2016-08-14  2016-08-15T18:50:05Z   \n",
       "3  Morning Consult  2016-08-11  2016-08-14  2016-08-15T18:50:05Z   \n",
       "4  Morning Consult  2016-08-11  2016-08-14  2016-08-15T18:50:05Z   \n",
       "\n",
       "   Number of Observations                       Population      Mode  Trump  \\\n",
       "0                  2001.0                Registered Voters  Internet   37.0   \n",
       "1                   740.0     Registered Voters - Democrat  Internet    8.0   \n",
       "2                   610.0   Registered Voters - Republican  Internet   77.0   \n",
       "3                   651.0  Registered Voters - independent  Internet   33.0   \n",
       "4                  2001.0                Registered Voters  Internet   33.0   \n",
       "\n",
       "   Clinton  Johnson  Other  Undecided  \\\n",
       "0     44.0      NaN    NaN       18.0   \n",
       "1     83.0      NaN    NaN        9.0   \n",
       "2      9.0      NaN    NaN       14.0   \n",
       "3     33.0      NaN    NaN       34.0   \n",
       "4     39.0      9.0    4.0       14.0   \n",
       "\n",
       "                                        Pollster URL  \\\n",
       "0  http://elections.huffingtonpost.com/pollster/p...   \n",
       "1  http://elections.huffingtonpost.com/pollster/p...   \n",
       "2  http://elections.huffingtonpost.com/pollster/p...   \n",
       "3  http://elections.huffingtonpost.com/pollster/p...   \n",
       "4  http://elections.huffingtonpost.com/pollster/p...   \n",
       "\n",
       "                                          Source URL     Partisan Affiliation  \\\n",
       "0  https://morningconsult.com/2016/08/14/poll-tru...  Nonpartisan        None   \n",
       "1  https://morningconsult.com/2016/08/14/poll-tru...  Nonpartisan        None   \n",
       "2  https://morningconsult.com/2016/08/14/poll-tru...  Nonpartisan        None   \n",
       "3  https://morningconsult.com/2016/08/14/poll-tru...  Nonpartisan        None   \n",
       "4  https://morningconsult.com/2016/08/14/poll-tru...  Nonpartisan        None   \n",
       "\n",
       "                                       Question Text  Question Iteration  \n",
       "0  If the 2016 presidential election were held to...                   1  \n",
       "1  If the 2016 presidential election were held to...                   1  \n",
       "2  If the 2016 presidential election were held to...                   1  \n",
       "3  If the 2016 presidential election were held to...                   1  \n",
       "4  If the 2016 presidential election were held to...                   2  "
      ]
     },
     "execution_count": 81,
     "metadata": {},
     "output_type": "execute_result"
    }
   ],
   "source": [
    "poll_df_original = pd.read_csv('desktop/2016-general-election-trump-vs-clinton-vs-johnson.csv')\n",
    "poll_df_original.head()"
   ]
  },
  {
   "cell_type": "code",
   "execution_count": null,
   "metadata": {
    "collapsed": false
   },
   "outputs": [],
   "source": []
  },
  {
   "cell_type": "code",
   "execution_count": null,
   "metadata": {
    "collapsed": false
   },
   "outputs": [],
   "source": []
  },
  {
   "cell_type": "code",
   "execution_count": null,
   "metadata": {
    "collapsed": true
   },
   "outputs": [],
   "source": []
  }
 ],
 "metadata": {
  "kernelspec": {
   "display_name": "Python 2",
   "language": "python",
   "name": "python2"
  },
  "language_info": {
   "codemirror_mode": {
    "name": "ipython",
    "version": 2
   },
   "file_extension": ".py",
   "mimetype": "text/x-python",
   "name": "python",
   "nbconvert_exporter": "python",
   "pygments_lexer": "ipython2",
   "version": "2.7.11"
  }
 },
 "nbformat": 4,
 "nbformat_minor": 0
}
